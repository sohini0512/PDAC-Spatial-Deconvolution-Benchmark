{
 "cells": [
  {
   "cell_type": "markdown",
   "id": "87a247f5",
   "metadata": {},
   "source": [
    "# Setup and Data Acquisition\n",
    "\n",
    "This notebook downloads the necessary spatial transcriptomics and single-cell RNA-seq data for the PDAC project.\n",
    "We use GEO datasets: GSE235315 (spatial Visium) and GSE194247, CD45- and GSE235449,CD45+ (scRNA-seq reference)."
   ]
  },
  {
   "cell_type": "code",
   "execution_count": 1,
   "id": "af79000a",
   "metadata": {},
   "outputs": [],
   "source": [
    "# Install GEOparse if not already installed\n",
    "# !pip install geopy GEOparse --quiet"
   ]
  },
  {
   "cell_type": "code",
   "execution_count": 2,
   "id": "6ec13a0a",
   "metadata": {},
   "outputs": [],
   "source": [
    "# Import libraries\n",
    "import os\n",
    "import GEOparse\n",
    "import pandas as pd"
   ]
  },
  {
   "cell_type": "code",
   "execution_count": 3,
   "id": "c5cf2642",
   "metadata": {},
   "outputs": [],
   "source": [
    "# Create data directories\n",
    "os.makedirs('./data/scRNA_seq/GSE194247', exist_ok=True)\n",
    "os.makedirs('./data/spatial/GSE235315', exist_ok=True)"
   ]
  },
  {
   "cell_type": "code",
   "execution_count": 4,
   "id": "3767b3fe",
   "metadata": {},
   "outputs": [
    {
     "name": "stderr",
     "output_type": "stream",
     "text": [
      "09-Jun-2025 21:50:10 DEBUG utils - Directory ./data/scRNA_seq/GSE194247 already exists. Skipping.\n",
      "09-Jun-2025 21:50:10 INFO GEOparse - File already exist: using local version.\n",
      "09-Jun-2025 21:50:10 INFO GEOparse - Parsing ./data/scRNA_seq/GSE194247\\GSE194247_family.soft.gz: \n",
      "09-Jun-2025 21:50:10 DEBUG GEOparse - DATABASE: GeoMiame\n",
      "09-Jun-2025 21:50:10 DEBUG GEOparse - SERIES: GSE194247\n",
      "09-Jun-2025 21:50:10 DEBUG GEOparse - PLATFORM: GPL24676\n",
      "09-Jun-2025 21:50:10 DEBUG GEOparse - SAMPLE: GSM5831620\n",
      "09-Jun-2025 21:50:10 DEBUG GEOparse - SAMPLE: GSM5831621\n",
      "09-Jun-2025 21:50:10 DEBUG GEOparse - SAMPLE: GSM5831622\n",
      "09-Jun-2025 21:50:10 DEBUG GEOparse - SAMPLE: GSM5831623\n",
      "09-Jun-2025 21:50:10 DEBUG GEOparse - SAMPLE: GSM5831624\n"
     ]
    },
    {
     "name": "stdout",
     "output_type": "stream",
     "text": [
      "{'title': ['Deep single-cell transcriptome analysis reveals transitional cancer cell state in the pancreatic cancer tumor microenvironment associated with poor prognosis'], 'geo_accession': ['GSE194247'], 'status': ['Public on May 01 2022'], 'submission_date': ['Jan 24 2022'], 'last_update_date': ['Feb 13 2024'], 'pubmed_id': ['38297291'], 'summary': ['Single cell transcriptome analysis of non-immune cell population in human pancreatic cancer tumor microenvironment'], 'overall_design': ['Integrative analysis of single-cell transcriptome of non-immune cell population from 17 pancreatic cancer tumor tissues'], 'type': ['Expression profiling by high throughput sequencing'], 'contributor': ['Galam,,Leem', 'Seongryong,,Kim'], 'sample_id': ['GSM5831620', 'GSM5831621', 'GSM5831622', 'GSM5831623', 'GSM5831624'], 'contact_name': ['Jong-Eun,,Park'], 'contact_institute': ['Korea Advanced Institute of Science and Technology'], 'contact_address': ['291, Daehak-ro, Yuseong-gu'], 'contact_city': ['Daejeon'], 'contact_zip/postal_code': ['34141'], 'contact_country': ['South Korea'], 'supplementary_file': ['ftp://ftp.ncbi.nlm.nih.gov/geo/series/GSE194nnn/GSE194247/suppl/GSE194247_RAW.tar'], 'platform_id': ['GPL24676'], 'platform_taxid': ['9606'], 'sample_taxid': ['9606'], 'relation': ['BioProject: https://www.ncbi.nlm.nih.gov/bioproject/PRJNA799944']}\n"
     ]
    }
   ],
   "source": [
    "# Download GSE194247 (scRNA-seq) metadata only for now\n",
    "gse_sc = GEOparse.get_GEO(geo='GSE194247', destdir='./data/scRNA_seq/GSE194247')\n",
    "print(gse_sc.metadata)"
   ]
  },
  {
   "cell_type": "code",
   "execution_count": 5,
   "id": "7d1c2639",
   "metadata": {},
   "outputs": [
    {
     "name": "stderr",
     "output_type": "stream",
     "text": [
      "09-Jun-2025 21:50:10 DEBUG utils - Directory ./data/spatial/GSE235315 already exists. Skipping.\n",
      "09-Jun-2025 21:50:10 INFO GEOparse - File already exist: using local version.\n",
      "09-Jun-2025 21:50:10 INFO GEOparse - Parsing ./data/spatial/GSE235315\\GSE235315_family.soft.gz: \n",
      "09-Jun-2025 21:50:10 DEBUG GEOparse - DATABASE: GeoMiame\n",
      "09-Jun-2025 21:50:10 DEBUG GEOparse - SERIES: GSE235315\n",
      "09-Jun-2025 21:50:10 DEBUG GEOparse - PLATFORM: GPL24676\n",
      "09-Jun-2025 21:50:10 DEBUG GEOparse - SAMPLE: GSM7498811\n",
      "09-Jun-2025 21:50:10 DEBUG GEOparse - SAMPLE: GSM7498812\n",
      "09-Jun-2025 21:50:10 DEBUG GEOparse - SAMPLE: GSM7498813\n",
      "09-Jun-2025 21:50:10 DEBUG GEOparse - SAMPLE: GSM7498814\n",
      "09-Jun-2025 21:50:10 DEBUG GEOparse - SAMPLE: GSM7498815\n",
      "09-Jun-2025 21:50:10 DEBUG GEOparse - SAMPLE: GSM7498816\n",
      "09-Jun-2025 21:50:10 DEBUG GEOparse - SAMPLE: GSM7498817\n"
     ]
    },
    {
     "name": "stdout",
     "output_type": "stream",
     "text": [
      "{'title': ['Integrative single-cell transcriptome analysis of human pancreatic cancer reveals an intermediate cancer cell population associated with poor prognosis [Spatial]'], 'geo_accession': ['GSE235315'], 'status': ['Public on Nov 17 2023'], 'submission_date': ['Jun 20 2023'], 'last_update_date': ['Feb 13 2024'], 'pubmed_id': ['38297291'], 'summary': ['We identified five distinct functional subclusters of pancreatic cancer cells and six distinct cancer-associated fibroblast subclusters. We deeply profiled their characteristics, and we found that these subclusters successfully deconvoluted most of the features suggested in bulk transcriptome analysis of pancreatic cancer. Among those subclusters, we identified a novel cancer cell subcluster, Ep_VGLL1, showing intermediate characteristics between the extremities of basal-like and classical dichotomy, despite its prognostic value. Molecular features of Ep_VGLL1 suggest its transitional properties between basal-like and classical subtypes, which is strongly supported by spatial transcriptome data.'], 'overall_design': ['We performed single cell RNA sequencing using enriched non-immune cell populations from 17 pancreatic cancer tumor tissues, and also generated paired spatial transcriptome data from 7 of the patient samples.'], 'type': ['Other'], 'contributor': ['Galam,,Leem', 'Junjeong,,Choi', 'Seongryong,,Kim'], 'sample_id': ['GSM7498811', 'GSM7498812', 'GSM7498813', 'GSM7498814', 'GSM7498815', 'GSM7498816', 'GSM7498817'], 'contact_name': ['Jong-Eun,,Park'], 'contact_institute': ['Korea Advanced Institute of Science and Technology'], 'contact_address': ['291, Daehak-ro, Yuseong-gu'], 'contact_city': ['Daejeon'], 'contact_zip/postal_code': ['34141'], 'contact_country': ['South Korea'], 'supplementary_file': ['ftp://ftp.ncbi.nlm.nih.gov/geo/series/GSE235nnn/GSE235315/suppl/GSE235315_RAW.tar'], 'platform_id': ['GPL24676'], 'platform_taxid': ['9606'], 'sample_taxid': ['9606'], 'relation': ['SubSeries of: GSE235452', 'BioProject: https://www.ncbi.nlm.nih.gov/bioproject/PRJNA985689']}\n"
     ]
    }
   ],
   "source": [
    "# Download GSE235315 (Visium spatial data) metadata only\n",
    "gse_spatial = GEOparse.get_GEO(geo='GSE235315', destdir='./data/spatial/GSE235315')\n",
    "print(gse_spatial.metadata)"
   ]
  },
  {
   "cell_type": "markdown",
   "id": "9d8dd000",
   "metadata": {},
   "source": [
    "You can manually download the H5AD files from the GEO supplementary links or continue with automated wget fetch if URLs are available."
   ]
  },
  {
   "cell_type": "markdown",
   "id": "2b7b2ef7",
   "metadata": {},
   "source": [
    "The following cell will:\n",
    "1. Download all 5 .tar.gz sample files from non-immune PDAC scRNA-seq data GSE194247\n",
    "2. Extract each into a sample folder\n",
    "3. Load filtered 10x matrices\n",
    "4. Merge and save as adata_all_raw.h5ad\n",
    "immune cell scRNA-seq dataset GSE235449 has 1 sample and is directly downloaded.  "
   ]
  },
  {
   "cell_type": "code",
   "execution_count": 6,
   "id": "d7aecd1f",
   "metadata": {},
   "outputs": [
    {
     "name": "stdout",
     "output_type": "stream",
     "text": [
      "Downloading GSM5831620_5_GEX_4.tar.gz...\n",
      "Extracting GSM5831620_5_GEX_4.tar.gz...\n",
      "Downloading GSM5831621_5_GEX_5.tar.gz...\n",
      "Extracting GSM5831621_5_GEX_5.tar.gz...\n",
      "Downloading GSM5831622_5_GEX_6.tar.gz...\n",
      "Extracting GSM5831622_5_GEX_6.tar.gz...\n",
      "Downloading GSM5831623_5_GEX_9.tar.gz...\n",
      "Extracting GSM5831623_5_GEX_9.tar.gz...\n",
      "Downloading GSM5831624_GEX_45_MM.tar.gz...\n",
      "Extracting GSM5831624_GEX_45_MM.tar.gz...\n",
      "Reading GSM5831620...\n",
      "Reading GSM5831621...\n",
      "Reading GSM5831622...\n",
      "Reading GSM5831623...\n",
      "Reading GSM5831624...\n",
      "Concatenating all samples...\n"
     ]
    },
    {
     "name": "stderr",
     "output_type": "stream",
     "text": [
      "C:\\Users\\sohin\\AppData\\Local\\Temp\\ipykernel_25172\\2233029869.py:45: FutureWarning: Use anndata.concat instead of AnnData.concatenate, AnnData.concatenate is deprecated and will be removed in the future. See the tutorial for concat at: https://anndata.readthedocs.io/en/latest/concatenation.html\n",
      "  adata_all = adatas[0].concatenate(adatas[1:], batch_key=\"sample\")\n"
     ]
    },
    {
     "name": "stdout",
     "output_type": "stream",
     "text": [
      "Saved merged scRNA-seq file: adata_all_raw.h5ad\n"
     ]
    }
   ],
   "source": [
    "import os\n",
    "import tarfile\n",
    "import scanpy as sc\n",
    "import urllib.request\n",
    "\n",
    "# Define samples and FTP base\n",
    "samples = {\n",
    "    \"GSM5831620\": \"GSM5831620_5_GEX_4.tar.gz\",\n",
    "    \"GSM5831621\": \"GSM5831621_5_GEX_5.tar.gz\",\n",
    "    \"GSM5831622\": \"GSM5831622_5_GEX_6.tar.gz\",\n",
    "    \"GSM5831623\": \"GSM5831623_5_GEX_9.tar.gz\",\n",
    "    \"GSM5831624\": \"GSM5831624_GEX_45_MM.tar.gz\"\n",
    "}\n",
    "ftp_base = \"https://ftp.ncbi.nlm.nih.gov/geo/samples/GSM5831nnn/\"\n",
    "\n",
    "# Create directories\n",
    "os.makedirs(\"./data/scRNA_seq/GSE194247/raw\", exist_ok=True)\n",
    "\n",
    "# Download and extract\n",
    "for gsm, fname in samples.items():\n",
    "    url = f\"{ftp_base}{gsm}/suppl/{fname}\"\n",
    "    out_path = f\"./data/scRNA_seq/GSE194247/raw/{fname}\"\n",
    "    print(f\"Downloading {fname}...\")\n",
    "    urllib.request.urlretrieve(url, out_path)\n",
    "\n",
    "    print(f\"Extracting {fname}...\")\n",
    "    with tarfile.open(out_path, \"r:gz\") as tar:\n",
    "        extract_path = f\"./data/scRNA_seq/GSE194247/raw/{gsm}\"\n",
    "        os.makedirs(extract_path, exist_ok=True)\n",
    "        tar.extractall(path=extract_path)\n",
    "\n",
    "# Read and merge using Scanpy\n",
    "adatas = []\n",
    "for gsm in samples.keys():\n",
    "    mtx_path = f\"./data/scRNA_seq/GSE194247/raw/{gsm}/filtered_feature_bc_matrix\"\n",
    "    if os.path.exists(mtx_path):\n",
    "        print(f\"Reading {gsm}...\")\n",
    "        adata = sc.read_10x_mtx(mtx_path, var_names='gene_symbols')\n",
    "        adata.obs['sample_id'] = gsm\n",
    "        adatas.append(adata)\n",
    "    else:\n",
    "        print(f\"Missing: {mtx_path}\")\n",
    "\n",
    "print(\"Concatenating all samples...\")\n",
    "adata_all = adatas[0].concatenate(adatas[1:], batch_key=\"sample\")\n",
    "\n",
    "# Save to disk\n",
    "adata_all.write(\"./data/scRNA_seq/GSE194247/adata_all_raw.h5ad\")\n",
    "print(\"Saved merged scRNA-seq file: adata_all_raw.h5ad\")"
   ]
  },
  {
   "cell_type": "code",
   "execution_count": 19,
   "id": "7bb7d108",
   "metadata": {},
   "outputs": [],
   "source": [
    "# Single sample\n",
    "mtx_path = f\"data/scRNA_seq/GSE235449/raw/GSM7502530/filtered_feature_bc_matrix\"\n",
    "adata = sc.read_10x_mtx(mtx_path, var_names='gene_symbols')\n",
    "adata.obs['sample_id'] = gsm\n",
    "adata.write(\"./data/scRNA_seq/GSE235449/adata_all_raw.h5ad\")"
   ]
  },
  {
   "cell_type": "markdown",
   "id": "7c7cb2db",
   "metadata": {},
   "source": [
    "The following cell will:\n",
    "1. Download all 7 .tar.gz spatial sample files from GSE235315\n",
    "2. Extract each into its own folder under data/spatial/GSE235315/raw/GSM74988xx/\n",
    "3. Prepare them for scanpy.read_visium() usage"
   ]
  },
  {
   "cell_type": "code",
   "execution_count": 8,
   "id": "631d721d",
   "metadata": {},
   "outputs": [
    {
     "name": "stdout",
     "output_type": "stream",
     "text": [
      "Downloading GSM7498811_SS1905133_processed.tar.gz...\n",
      "Extracting GSM7498811_SS1905133_processed.tar.gz...\n",
      "Downloading GSM7498812_SS1923404_processed.tar.gz...\n",
      "Extracting GSM7498812_SS1923404_processed.tar.gz...\n",
      "Downloading GSM7498813_SS1945070_processed.tar.gz...\n",
      "Extracting GSM7498813_SS1945070_processed.tar.gz...\n",
      "Downloading GSM7498814_SS1960050_processed.tar.gz...\n",
      "Extracting GSM7498814_SS1960050_processed.tar.gz...\n",
      "Downloading GSM7498815_SS2002154_processed.tar.gz...\n",
      "Extracting GSM7498815_SS2002154_processed.tar.gz...\n",
      "Downloading GSM7498816_SS2005094_processed.tar.gz...\n",
      "Extracting GSM7498816_SS2005094_processed.tar.gz...\n",
      "Downloading GSM7498817_SS2021309_processed.tar.gz...\n",
      "Extracting GSM7498817_SS2021309_processed.tar.gz...\n"
     ]
    }
   ],
   "source": [
    "import anndata as ad\n",
    "from pathlib import Path\n",
    "\n",
    "# Define samples and filenames\n",
    "samples = {\n",
    "    \"GSM7498811\": \"GSM7498811_SS1905133_processed.tar.gz\",\n",
    "    \"GSM7498812\": \"GSM7498812_SS1923404_processed.tar.gz\",\n",
    "    \"GSM7498813\": \"GSM7498813_SS1945070_processed.tar.gz\",\n",
    "    \"GSM7498814\": \"GSM7498814_SS1960050_processed.tar.gz\",\n",
    "    \"GSM7498815\": \"GSM7498815_SS2002154_processed.tar.gz\",\n",
    "    \"GSM7498816\": \"GSM7498816_SS2005094_processed.tar.gz\",\n",
    "    \"GSM7498817\": \"GSM7498817_SS2021309_processed.tar.gz\"\n",
    "}\n",
    "\n",
    "ftp_base = \"https://ftp.ncbi.nlm.nih.gov/geo/samples/GSM7498nnn/\"\n",
    "\n",
    "# Make output directory\n",
    "os.makedirs(\"./data/spatial/GSE235315/raw\", exist_ok=True)\n",
    "\n",
    "# Download and extract each sample\n",
    "for gsm, fname in samples.items():\n",
    "    url = f\"{ftp_base}{gsm}/suppl/{fname}\"\n",
    "    out_path = f\"./data/spatial/GSE235315/raw/{fname}\"\n",
    "    print(f\"Downloading {fname}...\")\n",
    "    urllib.request.urlretrieve(url, out_path)\n",
    "\n",
    "    print(f\"Extracting {fname}...\")\n",
    "    extract_dir = f\"./data/spatial/GSE235315/raw/{gsm}\"\n",
    "    os.makedirs(extract_dir, exist_ok=True)\n",
    "    with tarfile.open(out_path, \"r:gz\") as tar:\n",
    "        tar.extractall(path=extract_dir)\n",
    "\n",
    "# Example: Load one sample with Scanpy (edit path if different layout)\n",
    "#print(\"To load a sample in Scanpy, use:\")\n",
    "#print(\">>> sc.read_visium('data/spatial/GSE235315/raw/GSM7498811/')\")"
   ]
  },
  {
   "cell_type": "code",
   "execution_count": 9,
   "id": "f9008270",
   "metadata": {},
   "outputs": [
    {
     "name": "stdout",
     "output_type": "stream",
     "text": [
      "Loading GSM7498811...\n"
     ]
    },
    {
     "name": "stderr",
     "output_type": "stream",
     "text": [
      "C:\\Users\\sohin\\AppData\\Local\\Temp\\ipykernel_25172\\2634553778.py:11: FutureWarning: Use `squidpy.read.visium` instead.\n",
      "  adata = sc.read_visium(path)\n",
      "c:\\Users\\sohin\\anaconda3\\Lib\\site-packages\\anndata\\_core\\anndata.py:1758: UserWarning: Variable names are not unique. To make them unique, call `.var_names_make_unique`.\n",
      "  utils.warn_names_duplicates(\"var\")\n",
      "c:\\Users\\sohin\\anaconda3\\Lib\\site-packages\\anndata\\_core\\anndata.py:1758: UserWarning: Variable names are not unique. To make them unique, call `.var_names_make_unique`.\n",
      "  utils.warn_names_duplicates(\"var\")\n",
      "C:\\Users\\sohin\\AppData\\Local\\Temp\\ipykernel_25172\\2634553778.py:11: FutureWarning: Use `squidpy.read.visium` instead.\n",
      "  adata = sc.read_visium(path)\n"
     ]
    },
    {
     "name": "stdout",
     "output_type": "stream",
     "text": [
      "Loading GSM7498812...\n"
     ]
    },
    {
     "name": "stderr",
     "output_type": "stream",
     "text": [
      "c:\\Users\\sohin\\anaconda3\\Lib\\site-packages\\anndata\\_core\\anndata.py:1758: UserWarning: Variable names are not unique. To make them unique, call `.var_names_make_unique`.\n",
      "  utils.warn_names_duplicates(\"var\")\n",
      "c:\\Users\\sohin\\anaconda3\\Lib\\site-packages\\anndata\\_core\\anndata.py:1758: UserWarning: Variable names are not unique. To make them unique, call `.var_names_make_unique`.\n",
      "  utils.warn_names_duplicates(\"var\")\n",
      "C:\\Users\\sohin\\AppData\\Local\\Temp\\ipykernel_25172\\2634553778.py:11: FutureWarning: Use `squidpy.read.visium` instead.\n",
      "  adata = sc.read_visium(path)\n"
     ]
    },
    {
     "name": "stdout",
     "output_type": "stream",
     "text": [
      "Loading GSM7498813...\n"
     ]
    },
    {
     "name": "stderr",
     "output_type": "stream",
     "text": [
      "c:\\Users\\sohin\\anaconda3\\Lib\\site-packages\\anndata\\_core\\anndata.py:1758: UserWarning: Variable names are not unique. To make them unique, call `.var_names_make_unique`.\n",
      "  utils.warn_names_duplicates(\"var\")\n",
      "c:\\Users\\sohin\\anaconda3\\Lib\\site-packages\\anndata\\_core\\anndata.py:1758: UserWarning: Variable names are not unique. To make them unique, call `.var_names_make_unique`.\n",
      "  utils.warn_names_duplicates(\"var\")\n",
      "C:\\Users\\sohin\\AppData\\Local\\Temp\\ipykernel_25172\\2634553778.py:11: FutureWarning: Use `squidpy.read.visium` instead.\n",
      "  adata = sc.read_visium(path)\n"
     ]
    },
    {
     "name": "stdout",
     "output_type": "stream",
     "text": [
      "Loading GSM7498814...\n"
     ]
    },
    {
     "name": "stderr",
     "output_type": "stream",
     "text": [
      "c:\\Users\\sohin\\anaconda3\\Lib\\site-packages\\anndata\\_core\\anndata.py:1758: UserWarning: Variable names are not unique. To make them unique, call `.var_names_make_unique`.\n",
      "  utils.warn_names_duplicates(\"var\")\n",
      "c:\\Users\\sohin\\anaconda3\\Lib\\site-packages\\anndata\\_core\\anndata.py:1758: UserWarning: Variable names are not unique. To make them unique, call `.var_names_make_unique`.\n",
      "  utils.warn_names_duplicates(\"var\")\n",
      "C:\\Users\\sohin\\AppData\\Local\\Temp\\ipykernel_25172\\2634553778.py:11: FutureWarning: Use `squidpy.read.visium` instead.\n",
      "  adata = sc.read_visium(path)\n"
     ]
    },
    {
     "name": "stdout",
     "output_type": "stream",
     "text": [
      "Loading GSM7498815...\n"
     ]
    },
    {
     "name": "stderr",
     "output_type": "stream",
     "text": [
      "c:\\Users\\sohin\\anaconda3\\Lib\\site-packages\\anndata\\_core\\anndata.py:1758: UserWarning: Variable names are not unique. To make them unique, call `.var_names_make_unique`.\n",
      "  utils.warn_names_duplicates(\"var\")\n",
      "c:\\Users\\sohin\\anaconda3\\Lib\\site-packages\\anndata\\_core\\anndata.py:1758: UserWarning: Variable names are not unique. To make them unique, call `.var_names_make_unique`.\n",
      "  utils.warn_names_duplicates(\"var\")\n",
      "C:\\Users\\sohin\\AppData\\Local\\Temp\\ipykernel_25172\\2634553778.py:11: FutureWarning: Use `squidpy.read.visium` instead.\n",
      "  adata = sc.read_visium(path)\n"
     ]
    },
    {
     "name": "stdout",
     "output_type": "stream",
     "text": [
      "Loading GSM7498816...\n"
     ]
    },
    {
     "name": "stderr",
     "output_type": "stream",
     "text": [
      "c:\\Users\\sohin\\anaconda3\\Lib\\site-packages\\anndata\\_core\\anndata.py:1758: UserWarning: Variable names are not unique. To make them unique, call `.var_names_make_unique`.\n",
      "  utils.warn_names_duplicates(\"var\")\n",
      "c:\\Users\\sohin\\anaconda3\\Lib\\site-packages\\anndata\\_core\\anndata.py:1758: UserWarning: Variable names are not unique. To make them unique, call `.var_names_make_unique`.\n",
      "  utils.warn_names_duplicates(\"var\")\n",
      "C:\\Users\\sohin\\AppData\\Local\\Temp\\ipykernel_25172\\2634553778.py:11: FutureWarning: Use `squidpy.read.visium` instead.\n",
      "  adata = sc.read_visium(path)\n"
     ]
    },
    {
     "name": "stdout",
     "output_type": "stream",
     "text": [
      "Loading GSM7498817...\n"
     ]
    },
    {
     "name": "stderr",
     "output_type": "stream",
     "text": [
      "c:\\Users\\sohin\\anaconda3\\Lib\\site-packages\\anndata\\_core\\anndata.py:1758: UserWarning: Variable names are not unique. To make them unique, call `.var_names_make_unique`.\n",
      "  utils.warn_names_duplicates(\"var\")\n",
      "c:\\Users\\sohin\\anaconda3\\Lib\\site-packages\\anndata\\_core\\anndata.py:1758: UserWarning: Variable names are not unique. To make them unique, call `.var_names_make_unique`.\n",
      "  utils.warn_names_duplicates(\"var\")\n",
      "c:\\Users\\sohin\\anaconda3\\Lib\\site-packages\\anndata\\_core\\anndata.py:1756: UserWarning: Observation names are not unique. To make them unique, call `.obs_names_make_unique`.\n",
      "  utils.warn_names_duplicates(\"obs\")\n"
     ]
    },
    {
     "name": "stdout",
     "output_type": "stream",
     "text": [
      "AnnData object with n_obs × n_vars = 25435 × 17943\n",
      "    obs: 'in_tissue', 'array_row', 'array_col', 'sample_id', 'batch'\n",
      "    obsm: 'spatial'\n",
      "Saved merged Visium data.\n"
     ]
    }
   ],
   "source": [
    "# Define base directory\n",
    "sample_ids = [\n",
    "    'GSM7498811', 'GSM7498812', 'GSM7498813',\n",
    "    'GSM7498814', 'GSM7498815', 'GSM7498816', 'GSM7498817']\n",
    "\n",
    "# Read and append spatial samples\n",
    "adatas = []\n",
    "for sid in sample_ids:\n",
    "    path = f\"./data/spatial/GSE235315/raw/{sid}/\"\n",
    "    print(f'Loading {sid}...')\n",
    "    adata = sc.read_visium(path)\n",
    "    adata.var_names_make_unique()\n",
    "    adata.obs['sample_id'] = sid\n",
    "    adatas.append(adata)\n",
    "\n",
    "# Merge all into one AnnData object\n",
    "adata_merged = ad.concat(adatas, label='batch', keys=sample_ids)\n",
    "print(adata_merged)\n",
    "\n",
    "# Save merged AnnData for downstream use\n",
    "adata_merged.write('./data/spatial/GSE235315/adata_spatial_merged.h5ad')\n",
    "print('Saved merged Visium data.')"
   ]
  }
 ],
 "metadata": {
  "kernelspec": {
   "display_name": "base",
   "language": "python",
   "name": "python3"
  },
  "language_info": {
   "codemirror_mode": {
    "name": "ipython",
    "version": 3
   },
   "file_extension": ".py",
   "mimetype": "text/x-python",
   "name": "python",
   "nbconvert_exporter": "python",
   "pygments_lexer": "ipython3",
   "version": "3.12.3"
  }
 },
 "nbformat": 4,
 "nbformat_minor": 5
}
