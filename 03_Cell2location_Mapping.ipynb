{
 "cells": [
  {
   "cell_type": "markdown",
   "id": "066d1f99",
   "metadata": {},
   "source": [
    "# Integrated Spatial Analysis with Cell2location\n",
    "\n",
    "This notebook performs:\n",
    "1. Integration of CD45- and CD45+ scRNA-seq datasets\n",
    "2. Cell2location deconvolution using integrated reference\n",
    "3. Neighborhood enrichment analysis\n",
    "4. Spatial interaction graph construction"
   ]
  },
  {
   "cell_type": "code",
   "execution_count": 1,
   "id": "42a1cc4d",
   "metadata": {},
   "outputs": [],
   "source": [
    "# Install dependencies\n",
    "!pip install cell2location scvi-tools --quiet"
   ]
  },
  {
   "cell_type": "code",
   "execution_count": 2,
   "id": "1bde4287",
   "metadata": {},
   "outputs": [],
   "source": [
    "# Import libraries\n",
    "import scanpy as sc\n",
    "import cell2location\n",
    "import scvi\n",
    "import matplotlib.pyplot as plt"
   ]
  },
  {
   "cell_type": "markdown",
   "id": "b2b8ef9b",
   "metadata": {},
   "source": [
    "## Data Integration\n",
    "\n",
    "We first concatenate CD45- and CD45+ scRNA-seq datasets to create a comprehensive reference."
   ]
  },
  {
   "cell_type": "code",
   "execution_count": 6,
   "id": "0cedcda9",
   "metadata": {},
   "outputs": [
    {
     "ename": "ValueError",
     "evalue": "Data matrix has wrong shape (29717, 33538), need to be (29717, 3000).",
     "output_type": "error",
     "traceback": [
      "\u001b[1;31m---------------------------------------------------------------------------\u001b[0m",
      "\u001b[1;31mValueError\u001b[0m                                Traceback (most recent call last)",
      "Cell \u001b[1;32mIn[6], line 3\u001b[0m\n\u001b[0;32m      1\u001b[0m \u001b[38;5;66;03m# Load preprocessed data\u001b[39;00m\n\u001b[0;32m      2\u001b[0m adata_sc \u001b[38;5;241m=\u001b[39m sc\u001b[38;5;241m.\u001b[39mread(\u001b[38;5;124m'\u001b[39m\u001b[38;5;124m./data/scRNA_seq/GSE194247/adata_sc_preprocessed.h5ad\u001b[39m\u001b[38;5;124m'\u001b[39m)\n\u001b[1;32m----> 3\u001b[0m adata_sc\u001b[38;5;241m.\u001b[39mX \u001b[38;5;241m=\u001b[39m adata_sc\u001b[38;5;241m.\u001b[39mraw\u001b[38;5;241m.\u001b[39mX\n\u001b[0;32m      4\u001b[0m adata_sc\u001b[38;5;241m.\u001b[39mobs_names_make_unique()\n\u001b[0;32m      5\u001b[0m adata_sp \u001b[38;5;241m=\u001b[39m sc\u001b[38;5;241m.\u001b[39mread(\u001b[38;5;124m'\u001b[39m\u001b[38;5;124m./data/spatial/GSE235315/adata_spatial_preprocessed_merged.h5ad\u001b[39m\u001b[38;5;124m'\u001b[39m)\n",
      "File \u001b[1;32mc:\\Users\\sohin\\anaconda3\\Lib\\site-packages\\anndata\\_core\\anndata.py:645\u001b[0m, in \u001b[0;36mAnnData.X\u001b[1;34m(self, value)\u001b[0m\n\u001b[0;32m    643\u001b[0m \u001b[38;5;28;01melse\u001b[39;00m:\n\u001b[0;32m    644\u001b[0m     msg \u001b[38;5;241m=\u001b[39m \u001b[38;5;124mf\u001b[39m\u001b[38;5;124m\"\u001b[39m\u001b[38;5;124mData matrix has wrong shape \u001b[39m\u001b[38;5;132;01m{\u001b[39;00mvalue\u001b[38;5;241m.\u001b[39mshape\u001b[38;5;132;01m}\u001b[39;00m\u001b[38;5;124m, need to be \u001b[39m\u001b[38;5;132;01m{\u001b[39;00m\u001b[38;5;28mself\u001b[39m\u001b[38;5;241m.\u001b[39mshape\u001b[38;5;132;01m}\u001b[39;00m\u001b[38;5;124m.\u001b[39m\u001b[38;5;124m\"\u001b[39m\n\u001b[1;32m--> 645\u001b[0m     \u001b[38;5;28;01mraise\u001b[39;00m \u001b[38;5;167;01mValueError\u001b[39;00m(msg)\n",
      "\u001b[1;31mValueError\u001b[0m: Data matrix has wrong shape (29717, 33538), need to be (29717, 3000)."
     ]
    }
   ],
   "source": [
    "# Load preprocessed data\n",
    "adata_sc = sc.read('./data/scRNA_seq/GSE194247/adata_sc_preprocessed.h5ad')\n",
    "adata_sc.X = adata_sc.raw.X\n",
    "adata_sc.obs_names_make_unique()\n",
    "adata_sp = sc.read('./data/spatial/GSE235315/adata_spatial_preprocessed_merged.h5ad')\n",
    "adata_sp.obs_names_make_unique()"
   ]
  },
  {
   "cell_type": "code",
   "execution_count": null,
   "id": "f006aeec",
   "metadata": {},
   "outputs": [],
   "source": [
    "# Load both datasets\n",
    "adata_cd45neg = sc.read('./data/scRNA_seq/GSE194247/adata_sc_preprocessed.h5ad')\n",
    "adata_cd45pos = sc.read('./data/scRNA_seq/GSE235449/adata_immune_preprocessed.h5ad')\n",
    "\n",
    "# Concatenate datasets\n",
    "adata_sc = adata_cd45neg.concatenate(adata_cd45pos, \n",
    "    batch_key='dataset',\n",
    "    batch_categories=['CD45neg', 'CD45pos'])\n",
    "\n",
    "# Store raw counts\n",
    "adata_sc.raw = adata_sc.copy()\n",
    "adata_sc.obs_names_make_unique()\n",
    "\n",
    "# Load spatial data\n",
    "adata_sp = sc.read('./data/spatial/GSE235315/adata_spatial_preprocessed_merged.h5ad')\n",
    "adata_sp.obs_names_make_unique()"
   ]
  },
  {
   "cell_type": "code",
   "execution_count": 5,
   "id": "8628f27e",
   "metadata": {},
   "outputs": [
    {
     "name": "stderr",
     "output_type": "stream",
     "text": [
      "c:\\Users\\sohin\\anaconda3\\Lib\\site-packages\\scvi\\data\\fields\\_base_field.py:63: UserWarning: adata.X does not contain unnormalized count data. Are you sure this is what you want?\n",
      "  self.validate_field(adata)\n"
     ]
    },
    {
     "ename": "KeyError",
     "evalue": "'cell_type not found in adata.obs.'",
     "output_type": "error",
     "traceback": [
      "\u001b[1;31m---------------------------------------------------------------------------\u001b[0m",
      "\u001b[1;31mKeyError\u001b[0m                                  Traceback (most recent call last)",
      "Cell \u001b[1;32mIn[5], line 2\u001b[0m\n\u001b[0;32m      1\u001b[0m \u001b[38;5;66;03m# Train reference model (scRNA-seq)\u001b[39;00m\n\u001b[1;32m----> 2\u001b[0m scvi\u001b[38;5;241m.\u001b[39mmodel\u001b[38;5;241m.\u001b[39mSCVI\u001b[38;5;241m.\u001b[39msetup_anndata(adata_sc, labels_key\u001b[38;5;241m=\u001b[39m\u001b[38;5;124m'\u001b[39m\u001b[38;5;124mcell_type\u001b[39m\u001b[38;5;124m'\u001b[39m)\n\u001b[0;32m      3\u001b[0m sc_model \u001b[38;5;241m=\u001b[39m scvi\u001b[38;5;241m.\u001b[39mmodel\u001b[38;5;241m.\u001b[39mSCVI(adata_sc)\n\u001b[0;32m      4\u001b[0m sc_model\u001b[38;5;241m.\u001b[39mtrain()\n",
      "File \u001b[1;32mc:\\Users\\sohin\\anaconda3\\Lib\\site-packages\\scvi\\model\\_scvi.py:258\u001b[0m, in \u001b[0;36mSCVI.setup_anndata\u001b[1;34m(cls, adata, layer, batch_key, labels_key, size_factor_key, categorical_covariate_keys, continuous_covariate_keys, **kwargs)\u001b[0m\n\u001b[0;32m    256\u001b[0m     anndata_fields \u001b[38;5;241m+\u001b[39m\u001b[38;5;241m=\u001b[39m \u001b[38;5;28mcls\u001b[39m\u001b[38;5;241m.\u001b[39m_get_fields_for_adata_minification(adata_minify_type)\n\u001b[0;32m    257\u001b[0m adata_manager \u001b[38;5;241m=\u001b[39m AnnDataManager(fields\u001b[38;5;241m=\u001b[39manndata_fields, setup_method_args\u001b[38;5;241m=\u001b[39msetup_method_args)\n\u001b[1;32m--> 258\u001b[0m adata_manager\u001b[38;5;241m.\u001b[39mregister_fields(adata, \u001b[38;5;241m*\u001b[39m\u001b[38;5;241m*\u001b[39mkwargs)\n\u001b[0;32m    259\u001b[0m \u001b[38;5;28mcls\u001b[39m\u001b[38;5;241m.\u001b[39mregister_manager(adata_manager)\n",
      "File \u001b[1;32mc:\\Users\\sohin\\anaconda3\\Lib\\site-packages\\scvi\\data\\_manager.py:185\u001b[0m, in \u001b[0;36mAnnDataManager.register_fields\u001b[1;34m(self, adata, source_registry, **transfer_kwargs)\u001b[0m\n\u001b[0;32m    182\u001b[0m \u001b[38;5;28mself\u001b[39m\u001b[38;5;241m.\u001b[39m_validate_anndata_object(adata)\n\u001b[0;32m    184\u001b[0m \u001b[38;5;28;01mfor\u001b[39;00m field \u001b[38;5;129;01min\u001b[39;00m \u001b[38;5;28mself\u001b[39m\u001b[38;5;241m.\u001b[39mfields:\n\u001b[1;32m--> 185\u001b[0m     \u001b[38;5;28mself\u001b[39m\u001b[38;5;241m.\u001b[39m_add_field(\n\u001b[0;32m    186\u001b[0m         field\u001b[38;5;241m=\u001b[39mfield,\n\u001b[0;32m    187\u001b[0m         adata\u001b[38;5;241m=\u001b[39madata,\n\u001b[0;32m    188\u001b[0m         source_registry\u001b[38;5;241m=\u001b[39msource_registry,\n\u001b[0;32m    189\u001b[0m         \u001b[38;5;241m*\u001b[39m\u001b[38;5;241m*\u001b[39mtransfer_kwargs,\n\u001b[0;32m    190\u001b[0m     )\n\u001b[0;32m    192\u001b[0m \u001b[38;5;66;03m# Save arguments for register_fields.\u001b[39;00m\n\u001b[0;32m    193\u001b[0m \u001b[38;5;28mself\u001b[39m\u001b[38;5;241m.\u001b[39m_source_registry \u001b[38;5;241m=\u001b[39m deepcopy(source_registry)\n",
      "File \u001b[1;32mc:\\Users\\sohin\\anaconda3\\Lib\\site-packages\\scvi\\data\\_manager.py:228\u001b[0m, in \u001b[0;36mAnnDataManager._add_field\u001b[1;34m(self, field, adata, source_registry, **transfer_kwargs)\u001b[0m\n\u001b[0;32m    220\u001b[0m         field_registry[_constants\u001b[38;5;241m.\u001b[39m_STATE_REGISTRY_KEY] \u001b[38;5;241m=\u001b[39m field\u001b[38;5;241m.\u001b[39mtransfer_field(\n\u001b[0;32m    221\u001b[0m             source_registry[_constants\u001b[38;5;241m.\u001b[39m_FIELD_REGISTRIES_KEY][field\u001b[38;5;241m.\u001b[39mregistry_key][\n\u001b[0;32m    222\u001b[0m                 _constants\u001b[38;5;241m.\u001b[39m_STATE_REGISTRY_KEY\n\u001b[1;32m   (...)\u001b[0m\n\u001b[0;32m    225\u001b[0m             \u001b[38;5;241m*\u001b[39m\u001b[38;5;241m*\u001b[39mtransfer_kwargs,\n\u001b[0;32m    226\u001b[0m         )\n\u001b[0;32m    227\u001b[0m     \u001b[38;5;28;01melse\u001b[39;00m:\n\u001b[1;32m--> 228\u001b[0m         field_registry[_constants\u001b[38;5;241m.\u001b[39m_STATE_REGISTRY_KEY] \u001b[38;5;241m=\u001b[39m field\u001b[38;5;241m.\u001b[39mregister_field(adata)\n\u001b[0;32m    229\u001b[0m \u001b[38;5;66;03m# Compute and set summary stats for the given field.\u001b[39;00m\n\u001b[0;32m    230\u001b[0m state_registry \u001b[38;5;241m=\u001b[39m field_registry[_constants\u001b[38;5;241m.\u001b[39m_STATE_REGISTRY_KEY]\n",
      "File \u001b[1;32mc:\\Users\\sohin\\anaconda3\\Lib\\site-packages\\scvi\\data\\fields\\_dataframe_field.py:186\u001b[0m, in \u001b[0;36mCategoricalDataFrameField.register_field\u001b[1;34m(self, adata)\u001b[0m\n\u001b[0;32m    183\u001b[0m \u001b[38;5;28;01mif\u001b[39;00m \u001b[38;5;28mself\u001b[39m\u001b[38;5;241m.\u001b[39mis_default:\n\u001b[0;32m    184\u001b[0m     \u001b[38;5;28mself\u001b[39m\u001b[38;5;241m.\u001b[39m_setup_default_attr(adata)\n\u001b[1;32m--> 186\u001b[0m \u001b[38;5;28msuper\u001b[39m()\u001b[38;5;241m.\u001b[39mregister_field(adata)\n\u001b[0;32m    187\u001b[0m categorical_mapping \u001b[38;5;241m=\u001b[39m _make_column_categorical(\n\u001b[0;32m    188\u001b[0m     \u001b[38;5;28mgetattr\u001b[39m(adata, \u001b[38;5;28mself\u001b[39m\u001b[38;5;241m.\u001b[39mattr_name),\n\u001b[0;32m    189\u001b[0m     \u001b[38;5;28mself\u001b[39m\u001b[38;5;241m.\u001b[39m_original_attr_key,\n\u001b[0;32m    190\u001b[0m     \u001b[38;5;28mself\u001b[39m\u001b[38;5;241m.\u001b[39mattr_key,\n\u001b[0;32m    191\u001b[0m )\n\u001b[0;32m    192\u001b[0m \u001b[38;5;28;01mreturn\u001b[39;00m {\n\u001b[0;32m    193\u001b[0m     \u001b[38;5;28mself\u001b[39m\u001b[38;5;241m.\u001b[39mCATEGORICAL_MAPPING_KEY: categorical_mapping,\n\u001b[0;32m    194\u001b[0m     \u001b[38;5;28mself\u001b[39m\u001b[38;5;241m.\u001b[39mORIGINAL_ATTR_KEY: \u001b[38;5;28mself\u001b[39m\u001b[38;5;241m.\u001b[39m_original_attr_key,\n\u001b[0;32m    195\u001b[0m }\n",
      "File \u001b[1;32mc:\\Users\\sohin\\anaconda3\\Lib\\site-packages\\scvi\\data\\fields\\_base_field.py:63\u001b[0m, in \u001b[0;36mBaseAnnDataField.register_field\u001b[1;34m(self, adata)\u001b[0m\n\u001b[0;32m     53\u001b[0m \u001b[38;5;129m@abstractmethod\u001b[39m\n\u001b[0;32m     54\u001b[0m \u001b[38;5;28;01mdef\u001b[39;00m \u001b[38;5;21mregister_field\u001b[39m(\u001b[38;5;28mself\u001b[39m, adata: AnnOrMuData) \u001b[38;5;241m-\u001b[39m\u001b[38;5;241m>\u001b[39m \u001b[38;5;28mdict\u001b[39m:\n\u001b[0;32m     55\u001b[0m \u001b[38;5;250m    \u001b[39m\u001b[38;5;124;03m\"\"\"Sets up the AnnData/MuData object and creates a mapping for scvi-tools models to use.\u001b[39;00m\n\u001b[0;32m     56\u001b[0m \n\u001b[0;32m     57\u001b[0m \u001b[38;5;124;03m    Returns\u001b[39;00m\n\u001b[1;32m   (...)\u001b[0m\n\u001b[0;32m     61\u001b[0m \u001b[38;5;124;03m        stored directly on the AnnData/MuData object.\u001b[39;00m\n\u001b[0;32m     62\u001b[0m \u001b[38;5;124;03m    \"\"\"\u001b[39;00m\n\u001b[1;32m---> 63\u001b[0m     \u001b[38;5;28mself\u001b[39m\u001b[38;5;241m.\u001b[39mvalidate_field(adata)\n\u001b[0;32m     64\u001b[0m     \u001b[38;5;28;01mreturn\u001b[39;00m {}\n",
      "File \u001b[1;32mc:\\Users\\sohin\\anaconda3\\Lib\\site-packages\\scvi\\data\\fields\\_dataframe_field.py:179\u001b[0m, in \u001b[0;36mCategoricalDataFrameField.validate_field\u001b[1;34m(self, adata)\u001b[0m\n\u001b[0;32m    177\u001b[0m \u001b[38;5;28msuper\u001b[39m()\u001b[38;5;241m.\u001b[39mvalidate_field(adata)\n\u001b[0;32m    178\u001b[0m \u001b[38;5;28;01mif\u001b[39;00m \u001b[38;5;28mself\u001b[39m\u001b[38;5;241m.\u001b[39m_original_attr_key \u001b[38;5;129;01mnot\u001b[39;00m \u001b[38;5;129;01min\u001b[39;00m \u001b[38;5;28mgetattr\u001b[39m(adata, \u001b[38;5;28mself\u001b[39m\u001b[38;5;241m.\u001b[39mattr_name):\n\u001b[1;32m--> 179\u001b[0m     \u001b[38;5;28;01mraise\u001b[39;00m \u001b[38;5;167;01mKeyError\u001b[39;00m(\u001b[38;5;124mf\u001b[39m\u001b[38;5;124m\"\u001b[39m\u001b[38;5;132;01m{\u001b[39;00m\u001b[38;5;28mself\u001b[39m\u001b[38;5;241m.\u001b[39m_original_attr_key\u001b[38;5;132;01m}\u001b[39;00m\u001b[38;5;124m not found in adata.\u001b[39m\u001b[38;5;132;01m{\u001b[39;00m\u001b[38;5;28mself\u001b[39m\u001b[38;5;241m.\u001b[39mattr_name\u001b[38;5;132;01m}\u001b[39;00m\u001b[38;5;124m.\u001b[39m\u001b[38;5;124m\"\u001b[39m)\n",
      "\u001b[1;31mKeyError\u001b[0m: 'cell_type not found in adata.obs.'"
     ]
    }
   ],
   "source": [
    "# Train reference model (scRNA-seq)\n",
    "scvi.model.SCVI.setup_anndata(adata_sc, labels_key='cell_type')\n",
    "sc_model = scvi.model.SCVI(adata_sc)\n",
    "sc_model.train()\n",
    "adata_sc.obsm['scVI'] = sc_model.get_latents()"
   ]
  },
  {
   "cell_type": "code",
   "execution_count": null,
   "id": "733509ad",
   "metadata": {},
   "outputs": [],
   "source": [
    "# Export cell-type signatures\n",
    "from cell2location.models import RegressionModel\n",
    "reg_model = RegressionModel(adata_sc)\n",
    "reg_model.train(max_epochs=250)\n",
    "inf_aver = reg_model.get_cluster_gene_expression()\n",
    "inf_aver.save('./results/cell_abundances/reference_signatures.h5ad')"
   ]
  },
  {
   "cell_type": "code",
   "execution_count": null,
   "id": "2b360172",
   "metadata": {},
   "outputs": [],
   "source": [
    "# Prepare spatial data for Cell2location\n",
    "cell2location.models.Cell2location.setup_anndata(adata_sp)\n",
    "mod = cell2location.models.Cell2location(\n",
    "    adata_sp, cell_state_df=inf_aver, N_cells_per_location=30, detection_alpha=20\n",
    ")\n",
    "mod.train(max_epochs=300)"
   ]
  },
  {
   "cell_type": "markdown",
   "id": "226b9b3c",
   "metadata": {},
   "source": [
    "## Cell2location Analysis\n",
    "\n",
    "We use Cell2location with:\n",
    "- Integrated reference data\n",
    "- 5% quantile estimates for abundance\n",
    "- Downstream spatial analysis parameters"
   ]
  },
  {
   "cell_type": "code",
   "execution_count": null,
   "id": "87a3604f",
   "metadata": {},
   "outputs": [],
   "source": [
    "# Export estimated cell-type abundance\n",
    "adata_sp = mod.export_posterior(adata_sp, sample_kwargs={'num_samples': 1000})\n",
    "adata_sp.write('../results/cell_abundances/adata_sp_cell2location.h5ad')\n",
    "print('✅ Deconvolution complete.')"
   ]
  },
  {
   "cell_type": "markdown",
   "id": "c011fbe3",
   "metadata": {},
   "source": [
    "## Neighborhood Enrichment Analysis\n",
    "\n",
    "1. Identify high spots (5% quantile abundance > 3)\n",
    "2. Calculate neighbor abundances up to 3rd degree\n",
    "3. Compare observed vs expected profiles\n",
    "4. Generate enrichment profiles"
   ]
  },
  {
   "cell_type": "code",
   "execution_count": null,
   "id": "94445473",
   "metadata": {},
   "outputs": [],
   "source": [
    "def calculate_neighborhood_enrichment(adata, abundance_key='means_cell_abundance_w_sf', threshold=3):\n",
    "    \"\"\"Calculate neighborhood enrichment for cell types\"\"\"\n",
    "    # Calculate spatial neighbors\n",
    "    sc.pp.neighbors(adata, n_neighbors=10, use_rep='spatial')\n",
    "    \n",
    "    # Identify high spots\n",
    "    high_spots = {}\n",
    "    for ct in adata.obsm[abundance_key].columns:\n",
    "        high_spots[ct] = adata.obs_names[\n",
    "            adata.obsm[abundance_key][ct] > threshold\n",
    "        ].tolist()\n",
    "    \n",
    "    # Calculate neighbor abundances\n",
    "    enrichment_profiles = {}\n",
    "    for ct in high_spots:\n",
    "        # Get neighboring spots\n",
    "        neighbors = adata.obsp['distances'].tocsr()[adata.obs_names.isin(high_spots[ct])]\n",
    "        neighbor_idx = neighbors.indices[neighbors.data <= 3]\n",
    "        \n",
    "        # Calculate observed abundances\n",
    "        observed = adata.obsm[abundance_key].iloc[neighbor_idx].sum()\n",
    "        \n",
    "        # Calculate expected abundances\n",
    "        n_neighbors = len(neighbor_idx)\n",
    "        expected = adata.obsm[abundance_key].mean() * n_neighbors\n",
    "        \n",
    "        # Calculate enrichment\n",
    "        enrichment_profiles[ct] = observed / expected\n",
    "    \n",
    "    return pd.DataFrame(enrichment_profiles)\n",
    "\n",
    "# Calculate enrichment\n",
    "enrichment_df = calculate_neighborhood_enrichment(adata_sp)\n",
    "\n",
    "# Generate interaction graph\n",
    "interaction_matrix = (enrichment_df > 1) & (enrichment_df > 1).T\n",
    "\n",
    "# Save results\n",
    "adata_sp.uns['neighborhood_enrichment'] = enrichment_df.to_dict()\n",
    "adata_sp.uns['interaction_matrix'] = interaction_matrix.to_dict()\n",
    "\n",
    "# Save processed data\n",
    "adata_sp.write('./results/spatial_analysis/adata_sp_analyzed.h5ad')"
   ]
  },
  {
   "cell_type": "code",
   "execution_count": null,
   "id": "8168d774",
   "metadata": {},
   "outputs": [],
   "source": [
    "# Example visualization: spatial distribution of a cell type\n",
    "import seaborn as sns\n",
    "sc.pl.spatial(adata_sp, color=['Cancer_BasalLike', 'Cancer_Classical'], cmap='Reds', spot_size=30)\n",
    "\n",
    "\n",
    "\n",
    "\n",
    "\n",
    "\n",
    "\n",
    "\n",
    "\n",
    "\n",
    "\n",
    "\n",
    "\n",
    "\n",
    "\n",
    "\n",
    "\n",
    "\n",
    "\n",
    "\n",
    "plt.show()plt.title('Cell-Cell Interactions')        node_size=1000, font_size=8)nx.draw(G, with_labels=True, node_color='lightblue', plt.figure(figsize=(8, 8))G = nx.from_pandas_adjacency(interaction_matrix)# Plot interaction graphplt.show()plt.tight_layout()axes[1].set_title('Neighborhood Enrichment')sns.heatmap(enrichment_df, cmap='RdBu_r', center=1, ax=axes[1])# Plot enrichment heatmap             cmap='Reds', spot_size=30, ax=axes[0])\n",
    "\n",
    "\n",
    "\n",
    "adata_sp.uns['q05_cell_abundance'] = q05q05 = np.quantile(adata_sp.obsm['q05_cell_abundance_w_sf'], axis=0)\n",
    "\n",
    "# Calculate 5% quantile for each cell type\n",
    "\n",
    "\n",
    "\n",
    ")    sample_kwargs={'num_samples': 1000}\n",
    "    adata_sp, adata_sp = mod.export_posterior(\n",
    "# Get 5% quantile estimatesmod.train(max_epochs=300)\n",
    "\n",
    "\n",
    ")    detection_alpha=20    N_cells_per_location=30,     cell_state_df=inf_aver, sc.pl.spatial(adata_sp, color=['Cancer_BasalLike', 'Cancer_Classical'], \n",
    "    adata_sp, mod = cell2location.models.Cell2location(\n",
    "fig, axes = plt.subplots(1, 2, figsize=(12, 5))cell2location.models.Cell2location.setup_anndata(adata_sp)# Prepare spatial data for Cell2locationimport networkx as nx\n",
    "\n",
    "# Plot spatial abundances"
   ]
  },
  {
   "cell_type": "markdown",
   "id": "ff4090e6",
   "metadata": {},
   "source": [
    "## Visualization\n",
    "\n",
    "1. Spatial abundance plots\n",
    "2. Neighborhood enrichment heatmap\n",
    "3. Cell-cell interaction graph"
   ]
  }
 ],
 "metadata": {
  "kernelspec": {
   "display_name": "base",
   "language": "python",
   "name": "python3"
  },
  "language_info": {
   "codemirror_mode": {
    "name": "ipython",
    "version": 3
   },
   "file_extension": ".py",
   "mimetype": "text/x-python",
   "name": "python",
   "nbconvert_exporter": "python",
   "pygments_lexer": "ipython3",
   "version": "3.12.7"
  }
 },
 "nbformat": 4,
 "nbformat_minor": 5
}
