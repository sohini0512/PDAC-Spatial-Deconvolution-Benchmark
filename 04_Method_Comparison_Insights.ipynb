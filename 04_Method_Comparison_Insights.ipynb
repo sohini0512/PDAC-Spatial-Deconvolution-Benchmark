{
 "cells": [
  {
   "cell_type": "markdown",
   "id": "e93f764e",
   "metadata": {},
   "source": [
    "# Notebook 4: Method Comparison and Insights\n",
    "\n",
    "This notebook compares Cell2location results against RCTD, SPOTlight, and Tangram.\n",
    "We evaluate agreement, biological plausibility, and interpretability."
   ]
  },
  {
   "cell_type": "code",
   "execution_count": 1,
   "id": "ba12cd5a",
   "metadata": {},
   "outputs": [
    {
     "name": "stdout",
     "output_type": "stream",
     "text": [
      "ERROR! Session/line number was not unique in database. History logging moved to new session 6\n"
     ]
    }
   ],
   "source": [
    "# Install Tangram (others require R)\n",
    "!pip install tangram-sc --quiet"
   ]
  },
  {
   "cell_type": "code",
   "execution_count": 2,
   "id": "2e547497",
   "metadata": {},
   "outputs": [],
   "source": [
    "# Import libraries\n",
    "import scanpy as sc\n",
    "import tangram as tg\n",
    "import matplotlib.pyplot as plt\n",
    "import seaborn as sns\n",
    "import pandas as pd\n",
    "import numpy as np"
   ]
  },
  {
   "cell_type": "code",
   "execution_count": null,
   "id": "2f996971",
   "metadata": {},
   "outputs": [],
   "source": [
    "# Load data\n",
    "adata_sc = sc.read('../data/scRNA_seq/GSE194247/adata_sc_preprocessed.h5ad')\n",
    "adata_sp = sc.read('../results/cell_abundances/adata_sp_cell2location.h5ad')"
   ]
  },
  {
   "cell_type": "code",
   "execution_count": null,
   "id": "95e479b3",
   "metadata": {},
   "outputs": [],
   "source": [
    "# Prepare data for Tangram\n",
    "tg.pp_adatas(adata_sc, adata_sp, genes=None)"
   ]
  },
  {
   "cell_type": "code",
   "execution_count": null,
   "id": "1fa89c15",
   "metadata": {},
   "outputs": [],
   "source": [
    "# Train Tangram model (sc -> spatial)\n",
    "tmap = tg.map_cells_to_space(\n",
    "    adata_sc, adata_sp,\n",
    "    mode='cells', density_prior='uniform', device='cpu', num_epochs=100\n",
    ")"
   ]
  },
  {
   "cell_type": "code",
   "execution_count": null,
   "id": "fc307b84",
   "metadata": {},
   "outputs": [],
   "source": [
    "# Project cell type annotations back to space\n",
    "pred = tg.project_cell_annotations(\n",
    "    tmap, annotation='cell_type', adata_sp=adata_sp\n",
    ")\n",
    "for k in pred.var_names:\n",
    "    adata_sp.obs[f'Tangram_{k}'] = pred[:, k].X.flatten()"
   ]
  },
  {
   "cell_type": "code",
   "execution_count": null,
   "id": "543c6a46",
   "metadata": {},
   "outputs": [],
   "source": [
    "# Compare cell2location vs Tangram for example cell type\n",
    "sns.scatterplot(\n",
    "    x=adata_sp.obs['Cancer_Classical'],\n",
    "    y=adata_sp.obs['Tangram_Cancer_Classical']\n",
    ")\n",
    "plt.xlabel('Cell2location')\n",
    "plt.ylabel('Tangram')\n",
    "plt.title('Cancer_Classical cell type abundance')\n",
    "plt.show()"
   ]
  },
  {
   "cell_type": "markdown",
   "id": "278f1a6a",
   "metadata": {},
   "source": [
    "**Notes**:\n",
    "- RCTD and SPOTlight should be run in R separately.\n",
    "- Store RCTD/SPOTlight results as `.csv` and import for comparison.\n",
    "- Use correlation and visual overlay to assess agreement."
   ]
  },
  {
   "cell_type": "code",
   "execution_count": null,
   "id": "c4db0a49",
   "metadata": {},
   "outputs": [],
   "source": [
    "# Example correlation matrix\n",
    "cell2loc = adata_sp.obsm['means_cell_abundance_w_sf']\n",
    "tangram = adata_sp.obs[[k for k in adata_sp.obs.columns if k.startswith('Tangram_')]]\n",
    "corr_df = pd.DataFrame(np.corrcoef(cell2loc.T, tangram.T)[:cell2loc.shape[1], cell2loc.shape[1]:],\n",
    "                      index=cell2loc.columns, columns=tangram.columns)\n",
    "sns.heatmap(corr_df, cmap='vlag')\n",
    "plt.title('Correlation: Cell2location vs Tangram')\n",
    "plt.show()"
   ]
  }
 ],
 "metadata": {
  "kernelspec": {
   "display_name": "base",
   "language": "python",
   "name": "python3"
  },
  "language_info": {
   "codemirror_mode": {
    "name": "ipython",
    "version": 3
   },
   "file_extension": ".py",
   "mimetype": "text/x-python",
   "name": "python",
   "nbconvert_exporter": "python",
   "pygments_lexer": "ipython3",
   "version": "3.12.7"
  }
 },
 "nbformat": 4,
 "nbformat_minor": 5
}
