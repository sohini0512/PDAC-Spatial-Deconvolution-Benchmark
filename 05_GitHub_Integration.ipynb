{
 "cells": [
  {
   "cell_type": "markdown",
   "id": "082f695b",
   "metadata": {},
   "source": [
    "# Notebook 5: GitHub Integration & Result Packaging\n",
    "\n",
    "This notebook helps prepare and export final results and figures for uploading to GitHub or sharing. It organizes outputs and generates key summary visualizations."
   ]
  },
  {
   "cell_type": "code",
   "execution_count": null,
   "id": "3f231e71",
   "metadata": {},
   "outputs": [],
   "source": [
    "# Import libraries\n",
    "import os\n",
    "import shutil\n",
    "import matplotlib.pyplot as plt\n",
    "import scanpy as sc"
   ]
  },
  {
   "cell_type": "code",
   "execution_count": null,
   "id": "b2e17842",
   "metadata": {},
   "outputs": [],
   "source": [
    "# Load spatial results\n",
    "adata_sp = sc.read('../results/cell_abundances/adata_sp_cell2location.h5ad')"
   ]
  },
  {
   "cell_type": "code",
   "execution_count": null,
   "id": "16cc982e",
   "metadata": {},
   "outputs": [],
   "source": [
    "# Export example spatial plots\n",
    "sc.pl.spatial(adata_sp, color=['Cancer_BasalLike', 'Cancer_Classical'], save='_cancer_types.png')\n",
    "sc.pl.spatial(adata_sp, color=['Fibroblast', 'CD8_T'], save='_immune_fibro.png')"
   ]
  },
  {
   "cell_type": "code",
   "execution_count": null,
   "id": "ea930ac7",
   "metadata": {},
   "outputs": [],
   "source": [
    "# Organize into figures directory\n",
    "os.makedirs('../figures/extensions', exist_ok=True)\n",
    "shutil.move('spatial_cancer_types.png', '../figures/extensions/spatial_cancer_types.png')\n",
    "shutil.move('spatial_immune_fibro.png', '../figures/extensions/spatial_immune_fibro.png')"
   ]
  },
  {
   "cell_type": "code",
   "execution_count": null,
   "id": "70c7ac59",
   "metadata": {},
   "outputs": [],
   "source": [
    "# Zip results directory\n",
    "!zip -r ../results_summary.zip ../results"
   ]
  },
  {
   "cell_type": "markdown",
   "id": "1aeecbae",
   "metadata": {},
   "source": [
    "You can now commit the entire repository to GitHub:\n",
    "```bash\n",
    "git add .\n",
    "git commit -m 'Final results and figures for PDAC project'\n",
    "git push origin main\n",
    "```"
   ]
  }
 ],
 "metadata": {},
 "nbformat": 4,
 "nbformat_minor": 5
}
